{
 "cells": [
  {
   "cell_type": "markdown",
   "metadata": {},
   "source": [
    "# Convolutional Neural Networks - Codealong\n",
    "\n",
    "## Introduction\n",
    "\n",
    "In this codealong, we will reinvestigate our previous Santa image classification example. To do this, we will review loading a dataset from a nested directory structure and building a baseline model. From there, we'll build a CNN and demonstrate its improved performance on image recognition tasks. It is recommended you run the cells in order to further explore variables and investigate the code snippets themselves. However, please note that some cells (particularly training cells later on) may take several minutes to run. (On a Macbook pro the entire notebook took ~15 minutes to run.)\n",
    "\n",
    "## Objectives  \n",
    "\n",
    "You will be able to:\n",
    "\n",
    "- Load images from a hierarchical file structure using an image datagenerator \n",
    "- Explain why one might augment image data when training a neural network \n",
    "- Apply data augmentation to image files before training a neural network \n",
    "- Build a CNN using Keras "
   ]
  },
  {
   "cell_type": "markdown",
   "metadata": {},
   "source": [
    "## Properly store your images \n",
    "\n",
    "When you're analyzing your image data, file management is important. We will be using the santa images again, but this time, they are stored in two folders: `santa` and `not_santa`. We want to work with a `train`, `validation`, and `test` datasets now, as we know by now that this is the best way to obtain unbiased estimate of your model performance.  \n",
    "\n",
    "Let's import libraries `os` and `shutil`, as we'll need them to create the new folders and move the new files in there."
   ]
  },
  {
   "cell_type": "code",
   "execution_count": 11,
   "metadata": {},
   "outputs": [],
   "source": [
    "import os, shutil"
   ]
  },
  {
   "cell_type": "markdown",
   "metadata": {},
   "source": [
    "Below we create three objects representing the existing directories: `data/santa/` as `data_santa_dir` and `data/not_santa/` as `data_not_santa_dir`. We will create a new directory `split/` as `new_dir`, where we will split the dataset in three groups (or three subdirectories): `train`, `test`, and `validation`, each containing `santa` and `not_santa` subfolders. The final desired structure is represented below: \n",
    "\n",
    "![title](images/folder_structure.png)"
   ]
  },
  {
   "cell_type": "code",
   "execution_count": 12,
   "metadata": {},
   "outputs": [],
   "source": [
    "data_santa_dir = 'data/santa/'\n",
    "data_not_santa_dir = 'data/not_santa/'\n",
    "new_dir = 'split/'"
   ]
  },
  {
   "cell_type": "markdown",
   "metadata": {},
   "source": [
    "You can use `os.listdir()` to create an object that stores all the relevant image names. "
   ]
  },
  {
   "cell_type": "code",
   "execution_count": 13,
   "metadata": {},
   "outputs": [],
   "source": [
    "imgs_santa = [file for file in os.listdir(data_santa_dir) if file.endswith('.jpg')]"
   ]
  },
  {
   "cell_type": "code",
   "execution_count": 14,
   "metadata": {},
   "outputs": [
    {
     "data": {
      "text/plain": [
       "['00000000.jpg',\n",
       " '00000001.jpg',\n",
       " '00000003.jpg',\n",
       " '00000004.jpg',\n",
       " '00000005.jpg',\n",
       " '00000006.jpg',\n",
       " '00000007.jpg',\n",
       " '00000008.jpg',\n",
       " '00000009.jpg',\n",
       " '00000010.jpg']"
      ]
     },
     "execution_count": 14,
     "metadata": {},
     "output_type": "execute_result"
    }
   ],
   "source": [
    "imgs_santa[0:10]"
   ]
  },
  {
   "cell_type": "markdown",
   "metadata": {},
   "source": [
    "Let's see how many images there are in the `santa` directory."
   ]
  },
  {
   "cell_type": "code",
   "execution_count": 15,
   "metadata": {},
   "outputs": [
    {
     "name": "stdout",
     "output_type": "stream",
     "text": [
      "There are 461 santa images\n"
     ]
    }
   ],
   "source": [
    "print('There are', len(imgs_santa), 'santa images')"
   ]
  },
  {
   "cell_type": "markdown",
   "metadata": {},
   "source": [
    "Now, repeat this for the `not_santa` directory: "
   ]
  },
  {
   "cell_type": "code",
   "execution_count": 16,
   "metadata": {},
   "outputs": [],
   "source": [
    "imgs_not_santa = [file for file in os.listdir(data_not_santa_dir) if file.endswith('.jpg')]"
   ]
  },
  {
   "cell_type": "code",
   "execution_count": 17,
   "metadata": {},
   "outputs": [
    {
     "name": "stdout",
     "output_type": "stream",
     "text": [
      "There are 461 images without santa\n"
     ]
    }
   ],
   "source": [
    "print('There are', len(imgs_not_santa), 'images without santa')"
   ]
  },
  {
   "cell_type": "markdown",
   "metadata": {},
   "source": [
    "Create all the folders and subfolders in order to get the structure represented above. You can use `os.path.join()` to create strings that will be used later on to generate new directories."
   ]
  },
  {
   "cell_type": "code",
   "execution_count": 18,
   "metadata": {},
   "outputs": [],
   "source": [
    "os.mkdir(new_dir)"
   ]
  },
  {
   "cell_type": "code",
   "execution_count": 19,
   "metadata": {},
   "outputs": [],
   "source": [
    "train_folder = os.path.join(new_dir, 'train')\n",
    "train_santa = os.path.join(train_folder, 'santa')\n",
    "train_not_santa = os.path.join(train_folder, 'not_santa')\n",
    "\n",
    "test_folder = os.path.join(new_dir, 'test')\n",
    "test_santa = os.path.join(test_folder, 'santa')\n",
    "test_not_santa = os.path.join(test_folder, 'not_santa')\n",
    "\n",
    "val_folder = os.path.join(new_dir, 'validation')\n",
    "val_santa = os.path.join(val_folder, 'santa')\n",
    "val_not_santa = os.path.join(val_folder, 'not_santa')"
   ]
  },
  {
   "cell_type": "code",
   "execution_count": 20,
   "metadata": {},
   "outputs": [
    {
     "data": {
      "text/plain": [
       "'split/train\\\\santa'"
      ]
     },
     "execution_count": 20,
     "metadata": {},
     "output_type": "execute_result"
    }
   ],
   "source": [
    "train_santa"
   ]
  },
  {
   "cell_type": "markdown",
   "metadata": {},
   "source": [
    "Now use all the path strings you created to make new directories. You can use `os.mkdir()` to do this. Go have a look at your directory and see if this worked!"
   ]
  },
  {
   "cell_type": "code",
   "execution_count": 21,
   "metadata": {},
   "outputs": [],
   "source": [
    "os.mkdir(test_folder)\n",
    "os.mkdir(test_santa)\n",
    "os.mkdir(test_not_santa)\n",
    "\n",
    "os.mkdir(train_folder)\n",
    "os.mkdir(train_santa)\n",
    "os.mkdir(train_not_santa)\n",
    "\n",
    "os.mkdir(val_folder)\n",
    "os.mkdir(val_santa)\n",
    "os.mkdir(val_not_santa)"
   ]
  },
  {
   "cell_type": "markdown",
   "metadata": {},
   "source": [
    "Copy the Santa images in the three santa subfolders. Let's put the first 271 images in the training set, the next 100 images in the validation set and the final 90 images in the test set."
   ]
  },
  {
   "cell_type": "code",
   "execution_count": 22,
   "metadata": {},
   "outputs": [],
   "source": [
    "# train santa\n",
    "imgs = imgs_santa[:271]\n",
    "for img in imgs:\n",
    "    origin = os.path.join(data_santa_dir, img)\n",
    "    destination = os.path.join(train_santa, img)\n",
    "    shutil.copyfile(origin, destination)"
   ]
  },
  {
   "cell_type": "code",
   "execution_count": 23,
   "metadata": {},
   "outputs": [],
   "source": [
    "# validation santa\n",
    "imgs = imgs_santa[271:371]\n",
    "for img in imgs:\n",
    "    origin = os.path.join(data_santa_dir, img)\n",
    "    destination = os.path.join(val_santa, img)\n",
    "    shutil.copyfile(origin, destination)"
   ]
  },
  {
   "cell_type": "code",
   "execution_count": 24,
   "metadata": {},
   "outputs": [],
   "source": [
    "# test santa\n",
    "imgs = imgs_santa[371:]\n",
    "for img in imgs:\n",
    "    origin = os.path.join(data_santa_dir, img)\n",
    "    destination = os.path.join(test_santa, img)\n",
    "    shutil.copyfile(origin, destination)"
   ]
  },
  {
   "cell_type": "markdown",
   "metadata": {},
   "source": [
    "Now, repeat all this for the `not_santa` images!"
   ]
  },
  {
   "cell_type": "code",
   "execution_count": 25,
   "metadata": {},
   "outputs": [],
   "source": [
    "# train not_santa\n",
    "imgs = imgs_not_santa[:271]\n",
    "for img in imgs:\n",
    "    origin = os.path.join(data_not_santa_dir, img)\n",
    "    destination = os.path.join(train_not_santa, img)\n",
    "    shutil.copyfile(origin, destination)\n",
    "# validation not_santa\n",
    "imgs = imgs_not_santa[271:371]\n",
    "for img in imgs:\n",
    "    origin = os.path.join(data_not_santa_dir, img)\n",
    "    destination = os.path.join(val_not_santa, img)\n",
    "    shutil.copyfile(origin, destination)\n",
    "# test not_santa\n",
    "imgs = imgs_not_santa[371:]\n",
    "for img in imgs:\n",
    "    origin = os.path.join(data_not_santa_dir, img)\n",
    "    destination = os.path.join(test_not_santa, img)\n",
    "    shutil.copyfile(origin, destination)"
   ]
  },
  {
   "cell_type": "markdown",
   "metadata": {},
   "source": [
    "Let's print out how many images we have in each directory so we know for sure our numbers are right!"
   ]
  },
  {
   "cell_type": "code",
   "execution_count": 26,
   "metadata": {},
   "outputs": [
    {
     "name": "stdout",
     "output_type": "stream",
     "text": [
      "There are 271 santa images in the training set\n"
     ]
    }
   ],
   "source": [
    "print('There are', len(os.listdir(train_santa)), 'santa images in the training set')"
   ]
  },
  {
   "cell_type": "code",
   "execution_count": 27,
   "metadata": {},
   "outputs": [
    {
     "name": "stdout",
     "output_type": "stream",
     "text": [
      "There are 100 santa images in the validation set\n"
     ]
    }
   ],
   "source": [
    "print('There are', len(os.listdir(val_santa)), 'santa images in the validation set')"
   ]
  },
  {
   "cell_type": "code",
   "execution_count": 28,
   "metadata": {},
   "outputs": [
    {
     "name": "stdout",
     "output_type": "stream",
     "text": [
      "There are 90 santa images in the test set\n"
     ]
    }
   ],
   "source": [
    "print('There are', len(os.listdir(test_santa)), 'santa images in the test set')"
   ]
  },
  {
   "cell_type": "code",
   "execution_count": 29,
   "metadata": {},
   "outputs": [
    {
     "name": "stdout",
     "output_type": "stream",
     "text": [
      "There are 271 images without santa in the train set\n"
     ]
    }
   ],
   "source": [
    "print('There are', len(os.listdir(train_not_santa)), 'images without santa in the train set')"
   ]
  },
  {
   "cell_type": "code",
   "execution_count": 30,
   "metadata": {},
   "outputs": [
    {
     "name": "stdout",
     "output_type": "stream",
     "text": [
      "There are 100 images without santa in the validation set\n"
     ]
    }
   ],
   "source": [
    "print('There are', len(os.listdir(val_not_santa)), 'images without santa in the validation set')"
   ]
  },
  {
   "cell_type": "code",
   "execution_count": 31,
   "metadata": {},
   "outputs": [
    {
     "name": "stdout",
     "output_type": "stream",
     "text": [
      "There are 90 images without santa in the test set\n"
     ]
    }
   ],
   "source": [
    "print('There are', len(os.listdir(test_not_santa)), 'images without santa in the test set')"
   ]
  },
  {
   "cell_type": "markdown",
   "metadata": {},
   "source": [
    "## Use a densely connected network as a baseline"
   ]
  },
  {
   "cell_type": "markdown",
   "metadata": {},
   "source": [
    "Now that we've a handle on our data, we can easily use Keras' module with image-processing tools. Let's import the necessary libraries below. "
   ]
  },
  {
   "cell_type": "code",
   "execution_count": 33,
   "metadata": {},
   "outputs": [],
   "source": [
    "import time\n",
    "import matplotlib.pyplot as plt\n",
    "import scipy\n",
    "import numpy as np\n",
    "from PIL import Image\n",
    "from scipy import ndimage\n",
    "from tensorflow.keras.preprocessing.image import ImageDataGenerator, array_to_img, img_to_array, load_img\n",
    "\n",
    "np.random.seed(123)"
   ]
  },
  {
   "cell_type": "code",
   "execution_count": 34,
   "metadata": {},
   "outputs": [
    {
     "name": "stdout",
     "output_type": "stream",
     "text": [
      "Found 180 images belonging to 2 classes.\n",
      "Found 200 images belonging to 2 classes.\n",
      "Found 542 images belonging to 2 classes.\n"
     ]
    }
   ],
   "source": [
    "# get all the data in the directory split/test (180 images), and reshape them\n",
    "test_generator = ImageDataGenerator(rescale=1./255).flow_from_directory(\n",
    "        test_folder, \n",
    "        target_size=(64, 64), batch_size = 180) \n",
    "\n",
    "# get all the data in the directory split/validation (200 images), and reshape them\n",
    "val_generator = ImageDataGenerator(rescale=1./255).flow_from_directory(\n",
    "        val_folder, \n",
    "        target_size=(64, 64), batch_size = 200)\n",
    "\n",
    "# get all the data in the directory split/train (542 images), and reshape them\n",
    "train_generator = ImageDataGenerator(rescale=1./255).flow_from_directory(\n",
    "        train_folder, \n",
    "        target_size=(64, 64), batch_size=542)"
   ]
  },
  {
   "cell_type": "code",
   "execution_count": 44,
   "metadata": {},
   "outputs": [
    {
     "data": {
      "text/plain": [
       "array([[0., 1.],\n",
       "       [1., 0.],\n",
       "       [1., 0.],\n",
       "       ...,\n",
       "       [0., 1.],\n",
       "       [0., 1.],\n",
       "       [0., 1.]], dtype=float32)"
      ]
     },
     "execution_count": 44,
     "metadata": {},
     "output_type": "execute_result"
    }
   ],
   "source": [
    "train_generator[0][1]"
   ]
  },
  {
   "cell_type": "code",
   "execution_count": 39,
   "metadata": {},
   "outputs": [],
   "source": [
    "# create the data sets\n",
    "train_images, train_labels = next(train_generator)\n",
    "test_images, test_labels = next(test_generator)\n",
    "val_images, val_labels = next(val_generator)"
   ]
  },
  {
   "cell_type": "code",
   "execution_count": 45,
   "metadata": {},
   "outputs": [
    {
     "name": "stdout",
     "output_type": "stream",
     "text": [
      "Number of training samples: 542\n",
      "Number of testing samples: 180\n",
      "Number of validation samples: 200\n",
      "train_images shape: (542, 64, 64, 3)\n",
      "train_labels shape: (542, 2)\n",
      "test_images shape: (180, 64, 64, 3)\n",
      "test_labels shape: (180, 2)\n",
      "val_images shape: (200, 64, 64, 3)\n",
      "val_labels shape: (200, 2)\n"
     ]
    }
   ],
   "source": [
    "# Explore your dataset again\n",
    "m_train = train_images.shape[0]\n",
    "num_px = train_images.shape[1]\n",
    "m_test = test_images.shape[0]\n",
    "m_val = val_images.shape[0]\n",
    "\n",
    "print (\"Number of training samples: \" + str(m_train))\n",
    "print (\"Number of testing samples: \" + str(m_test))\n",
    "print (\"Number of validation samples: \" + str(m_val))\n",
    "print (\"train_images shape: \" + str(train_images.shape))\n",
    "print (\"train_labels shape: \" + str(train_labels.shape))\n",
    "print (\"test_images shape: \" + str(test_images.shape))\n",
    "print (\"test_labels shape: \" + str(test_labels.shape))\n",
    "print (\"val_images shape: \" + str(val_images.shape))\n",
    "print (\"val_labels shape: \" + str(val_labels.shape))"
   ]
  },
  {
   "cell_type": "code",
   "execution_count": 46,
   "metadata": {},
   "outputs": [
    {
     "name": "stdout",
     "output_type": "stream",
     "text": [
      "(542, 12288)\n",
      "(180, 12288)\n",
      "(200, 12288)\n"
     ]
    }
   ],
   "source": [
    "train_img = train_images.reshape(train_images.shape[0], -1)\n",
    "test_img = test_images.reshape(test_images.shape[0], -1)\n",
    "val_img = val_images.reshape(val_images.shape[0], -1)\n",
    "\n",
    "print(train_img.shape)\n",
    "print(test_img.shape)\n",
    "print(val_img.shape)"
   ]
  },
  {
   "cell_type": "code",
   "execution_count": 47,
   "metadata": {},
   "outputs": [],
   "source": [
    "train_y = np.reshape(train_labels[:,0], (542,1))\n",
    "test_y = np.reshape(test_labels[:,0], (180,1))\n",
    "val_y = np.reshape(val_labels[:,0], (200,1))"
   ]
  },
  {
   "cell_type": "code",
   "execution_count": 48,
   "metadata": {},
   "outputs": [],
   "source": [
    "# Build a baseline fully connected model\n",
    "from keras import models\n",
    "from keras import layers\n",
    "np.random.seed(123)\n",
    "model = models.Sequential()\n",
    "model.add(layers.Dense(20, activation='relu', input_shape=(12288,))) # 2 hidden layers\n",
    "model.add(layers.Dense(7, activation='relu'))\n",
    "model.add(layers.Dense(5, activation='relu'))\n",
    "model.add(layers.Dense(1, activation='sigmoid'))"
   ]
  },
  {
   "cell_type": "code",
   "execution_count": 49,
   "metadata": {},
   "outputs": [
    {
     "name": "stdout",
     "output_type": "stream",
     "text": [
      "WARNING:tensorflow:From C:\\ProgramData\\Anaconda3\\lib\\site-packages\\tensorflow\\python\\ops\\nn_impl.py:180: add_dispatch_support.<locals>.wrapper (from tensorflow.python.ops.array_ops) is deprecated and will be removed in a future version.\n",
      "Instructions for updating:\n",
      "Use tf.where in 2.0, which has the same broadcast rule as np.where\n",
      "WARNING:tensorflow:From C:\\ProgramData\\Anaconda3\\lib\\site-packages\\keras\\backend\\tensorflow_backend.py:422: The name tf.global_variables is deprecated. Please use tf.compat.v1.global_variables instead.\n",
      "\n",
      "Train on 542 samples, validate on 200 samples\n",
      "Epoch 1/50\n",
      "542/542 [==============================] - 0s 360us/step - loss: 0.7016 - accuracy: 0.5055 - val_loss: 0.6781 - val_accuracy: 0.4900\n",
      "Epoch 2/50\n",
      "542/542 [==============================] - 0s 138us/step - loss: 0.6810 - accuracy: 0.5111 - val_loss: 0.6698 - val_accuracy: 0.5000\n",
      "Epoch 3/50\n",
      "542/542 [==============================] - 0s 138us/step - loss: 0.6735 - accuracy: 0.5277 - val_loss: 0.6653 - val_accuracy: 0.5650\n",
      "Epoch 4/50\n",
      "542/542 [==============================] - 0s 138us/step - loss: 0.6646 - accuracy: 0.5886 - val_loss: 0.6538 - val_accuracy: 0.5150\n",
      "Epoch 5/50\n",
      "542/542 [==============================] - 0s 140us/step - loss: 0.6508 - accuracy: 0.5756 - val_loss: 0.6441 - val_accuracy: 0.5250\n",
      "Epoch 6/50\n",
      "542/542 [==============================] - 0s 133us/step - loss: 0.6406 - accuracy: 0.5978 - val_loss: 0.6346 - val_accuracy: 0.6450\n",
      "Epoch 7/50\n",
      "542/542 [==============================] - 0s 133us/step - loss: 0.6207 - accuracy: 0.6273 - val_loss: 0.6215 - val_accuracy: 0.6650\n",
      "Epoch 8/50\n",
      "542/542 [==============================] - 0s 127us/step - loss: 0.6122 - accuracy: 0.6550 - val_loss: 0.6135 - val_accuracy: 0.6300\n",
      "Epoch 9/50\n",
      "542/542 [==============================] - 0s 135us/step - loss: 0.6099 - accuracy: 0.6439 - val_loss: 0.5972 - val_accuracy: 0.6700\n",
      "Epoch 10/50\n",
      "542/542 [==============================] - 0s 124us/step - loss: 0.5851 - accuracy: 0.6956 - val_loss: 0.5884 - val_accuracy: 0.6800\n",
      "Epoch 11/50\n",
      "542/542 [==============================] - 0s 120us/step - loss: 0.5650 - accuracy: 0.7214 - val_loss: 0.5768 - val_accuracy: 0.6650\n",
      "Epoch 12/50\n",
      "542/542 [==============================] - 0s 124us/step - loss: 0.5630 - accuracy: 0.7288 - val_loss: 0.5722 - val_accuracy: 0.6600\n",
      "Epoch 13/50\n",
      "542/542 [==============================] - 0s 122us/step - loss: 0.5474 - accuracy: 0.7454 - val_loss: 0.5699 - val_accuracy: 0.6500\n",
      "Epoch 14/50\n",
      "542/542 [==============================] - 0s 127us/step - loss: 0.5279 - accuracy: 0.7620 - val_loss: 0.5662 - val_accuracy: 0.7600\n",
      "Epoch 15/50\n",
      "542/542 [==============================] - 0s 131us/step - loss: 0.5267 - accuracy: 0.7601 - val_loss: 0.5867 - val_accuracy: 0.7450\n",
      "Epoch 16/50\n",
      "542/542 [==============================] - 0s 122us/step - loss: 0.4908 - accuracy: 0.7860 - val_loss: 0.5113 - val_accuracy: 0.7800\n",
      "Epoch 17/50\n",
      "542/542 [==============================] - 0s 116us/step - loss: 0.4939 - accuracy: 0.7657 - val_loss: 0.7473 - val_accuracy: 0.5550\n",
      "Epoch 18/50\n",
      "542/542 [==============================] - 0s 124us/step - loss: 0.5842 - accuracy: 0.6974 - val_loss: 0.5052 - val_accuracy: 0.7550\n",
      "Epoch 19/50\n",
      "542/542 [==============================] - 0s 124us/step - loss: 0.4682 - accuracy: 0.7952 - val_loss: 0.5478 - val_accuracy: 0.7000\n",
      "Epoch 20/50\n",
      "542/542 [==============================] - 0s 133us/step - loss: 0.4848 - accuracy: 0.7786 - val_loss: 0.5061 - val_accuracy: 0.7500\n",
      "Epoch 21/50\n",
      "542/542 [==============================] - 0s 122us/step - loss: 0.4034 - accuracy: 0.8284 - val_loss: 0.7011 - val_accuracy: 0.6000\n",
      "Epoch 22/50\n",
      "542/542 [==============================] - 0s 116us/step - loss: 0.4642 - accuracy: 0.7749 - val_loss: 0.4763 - val_accuracy: 0.8100\n",
      "Epoch 23/50\n",
      "542/542 [==============================] - 0s 114us/step - loss: 0.4179 - accuracy: 0.8137 - val_loss: 0.4925 - val_accuracy: 0.7650\n",
      "Epoch 24/50\n",
      "542/542 [==============================] - 0s 133us/step - loss: 0.4081 - accuracy: 0.8321 - val_loss: 0.4992 - val_accuracy: 0.7400\n",
      "Epoch 25/50\n",
      "542/542 [==============================] - 0s 120us/step - loss: 0.4475 - accuracy: 0.7952 - val_loss: 0.5059 - val_accuracy: 0.7200\n",
      "Epoch 26/50\n",
      "542/542 [==============================] - 0s 116us/step - loss: 0.3746 - accuracy: 0.8432 - val_loss: 0.4755 - val_accuracy: 0.7850\n",
      "Epoch 27/50\n",
      "542/542 [==============================] - 0s 125us/step - loss: 0.3343 - accuracy: 0.8561 - val_loss: 0.4861 - val_accuracy: 0.7800\n",
      "Epoch 28/50\n",
      "542/542 [==============================] - 0s 120us/step - loss: 0.3442 - accuracy: 0.8358 - val_loss: 1.4161 - val_accuracy: 0.5300\n",
      "Epoch 29/50\n",
      "542/542 [==============================] - 0s 118us/step - loss: 0.4183 - accuracy: 0.8358 - val_loss: 0.4758 - val_accuracy: 0.7550\n",
      "Epoch 30/50\n",
      "542/542 [==============================] - 0s 118us/step - loss: 0.2833 - accuracy: 0.8967 - val_loss: 0.9427 - val_accuracy: 0.6100\n",
      "Epoch 31/50\n",
      "542/542 [==============================] - 0s 118us/step - loss: 0.3676 - accuracy: 0.8432 - val_loss: 0.4389 - val_accuracy: 0.8300\n",
      "Epoch 32/50\n",
      "542/542 [==============================] - 0s 120us/step - loss: 0.3093 - accuracy: 0.8856 - val_loss: 0.5026 - val_accuracy: 0.7700\n",
      "Epoch 33/50\n",
      "542/542 [==============================] - 0s 112us/step - loss: 0.2269 - accuracy: 0.9317 - val_loss: 0.4742 - val_accuracy: 0.7850\n",
      "Epoch 34/50\n",
      "542/542 [==============================] - 0s 116us/step - loss: 0.2881 - accuracy: 0.8801 - val_loss: 0.4952 - val_accuracy: 0.7750\n",
      "Epoch 35/50\n",
      "542/542 [==============================] - 0s 120us/step - loss: 0.3420 - accuracy: 0.8745 - val_loss: 0.5365 - val_accuracy: 0.7500\n",
      "Epoch 36/50\n",
      "542/542 [==============================] - 0s 116us/step - loss: 0.3579 - accuracy: 0.8524 - val_loss: 0.4333 - val_accuracy: 0.8200\n",
      "Epoch 37/50\n",
      "542/542 [==============================] - 0s 111us/step - loss: 0.3687 - accuracy: 0.8542 - val_loss: 0.4704 - val_accuracy: 0.7850\n",
      "Epoch 38/50\n",
      "542/542 [==============================] - 0s 114us/step - loss: 0.2391 - accuracy: 0.9188 - val_loss: 0.7051 - val_accuracy: 0.6550\n",
      "Epoch 39/50\n",
      "542/542 [==============================] - 0s 114us/step - loss: 0.2954 - accuracy: 0.8875 - val_loss: 0.4807 - val_accuracy: 0.8000\n",
      "Epoch 40/50\n",
      "542/542 [==============================] - 0s 113us/step - loss: 0.2118 - accuracy: 0.9262 - val_loss: 0.4620 - val_accuracy: 0.8300\n",
      "Epoch 41/50\n",
      "542/542 [==============================] - 0s 113us/step - loss: 0.2642 - accuracy: 0.9133 - val_loss: 0.4862 - val_accuracy: 0.7850\n",
      "Epoch 42/50\n",
      "542/542 [==============================] - 0s 116us/step - loss: 0.2743 - accuracy: 0.8838 - val_loss: 0.4758 - val_accuracy: 0.7950\n",
      "Epoch 43/50\n",
      "542/542 [==============================] - 0s 125us/step - loss: 0.2026 - accuracy: 0.9299 - val_loss: 0.5732 - val_accuracy: 0.7500\n",
      "Epoch 44/50\n",
      "542/542 [==============================] - 0s 122us/step - loss: 0.2795 - accuracy: 0.8782 - val_loss: 0.5148 - val_accuracy: 0.7800\n",
      "Epoch 45/50\n",
      "542/542 [==============================] - 0s 113us/step - loss: 0.2832 - accuracy: 0.8875 - val_loss: 0.4550 - val_accuracy: 0.8200\n",
      "Epoch 46/50\n",
      "542/542 [==============================] - 0s 122us/step - loss: 0.2351 - accuracy: 0.9114 - val_loss: 0.4453 - val_accuracy: 0.8200\n",
      "Epoch 47/50\n",
      "542/542 [==============================] - 0s 122us/step - loss: 0.1737 - accuracy: 0.9446 - val_loss: 0.4425 - val_accuracy: 0.8250\n",
      "Epoch 48/50\n",
      "542/542 [==============================] - 0s 116us/step - loss: 0.1466 - accuracy: 0.9557 - val_loss: 0.5613 - val_accuracy: 0.7600\n",
      "Epoch 49/50\n",
      "542/542 [==============================] - 0s 116us/step - loss: 0.1824 - accuracy: 0.9354 - val_loss: 0.5268 - val_accuracy: 0.7750\n",
      "Epoch 50/50\n",
      "542/542 [==============================] - 0s 122us/step - loss: 0.2126 - accuracy: 0.9244 - val_loss: 0.4505 - val_accuracy: 0.8450\n"
     ]
    }
   ],
   "source": [
    "model.compile(optimizer='sgd',\n",
    "              loss='binary_crossentropy',\n",
    "              metrics=['accuracy'])\n",
    "\n",
    "histoire = model.fit(train_img,\n",
    "                    train_y,\n",
    "                    epochs=50,\n",
    "                    batch_size=32,\n",
    "                    validation_data=(val_img, val_y))"
   ]
  },
  {
   "cell_type": "code",
   "execution_count": 50,
   "metadata": {},
   "outputs": [
    {
     "name": "stdout",
     "output_type": "stream",
     "text": [
      "542/542 [==============================] - 0s 59us/step\n"
     ]
    }
   ],
   "source": [
    "results_train = model.evaluate(train_img, train_y)"
   ]
  },
  {
   "cell_type": "code",
   "execution_count": 51,
   "metadata": {},
   "outputs": [
    {
     "name": "stdout",
     "output_type": "stream",
     "text": [
      "180/180 [==============================] - 0s 72us/step\n"
     ]
    }
   ],
   "source": [
    "results_test = model.evaluate(test_img, test_y)"
   ]
  },
  {
   "cell_type": "code",
   "execution_count": 52,
   "metadata": {},
   "outputs": [
    {
     "data": {
      "text/plain": [
       "[0.10940256340917186, 0.9760147333145142]"
      ]
     },
     "execution_count": 52,
     "metadata": {},
     "output_type": "execute_result"
    }
   ],
   "source": [
    "results_train"
   ]
  },
  {
   "cell_type": "code",
   "execution_count": 53,
   "metadata": {},
   "outputs": [
    {
     "data": {
      "text/plain": [
       "[0.5239154126909044, 0.7833333611488342]"
      ]
     },
     "execution_count": 53,
     "metadata": {},
     "output_type": "execute_result"
    }
   ],
   "source": [
    "results_test"
   ]
  },
  {
   "cell_type": "markdown",
   "metadata": {},
   "source": [
    "Remember that, in our previous lab on building deeper neural networks from scratch, we obtained a training accuracy of 95%, and a test set accuracy of 74.23%. \n",
    "\n",
    "This result is similar to what we got building our manual \"deeper\" dense model. The results are not entirely different. This is not a surprise!\n",
    "- Before, we only had a training and a validation set (which was at the same time the test set). Now we have split up the data 3-ways.\n",
    "- We didn't use minibatches before, yet we used mini-batches of 32 units here.\n",
    " \n",
    "## Build a CNN"
   ]
  },
  {
   "cell_type": "code",
   "execution_count": 54,
   "metadata": {},
   "outputs": [
    {
     "name": "stdout",
     "output_type": "stream",
     "text": [
      "WARNING:tensorflow:From C:\\ProgramData\\Anaconda3\\lib\\site-packages\\keras\\backend\\tensorflow_backend.py:4070: The name tf.nn.max_pool is deprecated. Please use tf.nn.max_pool2d instead.\n",
      "\n"
     ]
    }
   ],
   "source": [
    "model = models.Sequential()\n",
    "model.add(layers.Conv2D(32, (3, 3), activation='relu',\n",
    "                        input_shape=(64 ,64,  3)))\n",
    "model.add(layers.MaxPooling2D((2, 2)))\n",
    "\n",
    "model.add(layers.Conv2D(32, (4, 4), activation='relu'))\n",
    "model.add(layers.MaxPooling2D((2, 2)))\n",
    "\n",
    "model.add(layers.Conv2D(64, (3, 3), activation='relu'))\n",
    "model.add(layers.MaxPooling2D((2, 2)))\n",
    "\n",
    "model.add(layers.Flatten())\n",
    "model.add(layers.Dense(64, activation='relu'))\n",
    "model.add(layers.Dense(1, activation='sigmoid'))\n",
    "\n",
    "model.compile(loss='binary_crossentropy',\n",
    "              optimizer=\"sgd\",\n",
    "              metrics=['acc'])"
   ]
  },
  {
   "cell_type": "code",
   "execution_count": 55,
   "metadata": {},
   "outputs": [
    {
     "name": "stdout",
     "output_type": "stream",
     "text": [
      "Train on 542 samples, validate on 200 samples\n",
      "Epoch 1/30\n",
      "542/542 [==============================] - 1s 2ms/step - loss: 0.6895 - acc: 0.5646 - val_loss: 0.6819 - val_acc: 0.5050\n",
      "Epoch 2/30\n",
      "542/542 [==============================] - 1s 2ms/step - loss: 0.6801 - acc: 0.5018 - val_loss: 0.6744 - val_acc: 0.5000\n",
      "Epoch 3/30\n",
      "542/542 [==============================] - 1s 2ms/step - loss: 0.6753 - acc: 0.5018 - val_loss: 0.6700 - val_acc: 0.5000\n",
      "Epoch 4/30\n",
      "542/542 [==============================] - 1s 2ms/step - loss: 0.6718 - acc: 0.5018 - val_loss: 0.6658 - val_acc: 0.5000\n",
      "Epoch 5/30\n",
      "542/542 [==============================] - 1s 2ms/step - loss: 0.6669 - acc: 0.5055 - val_loss: 0.6611 - val_acc: 0.5050\n",
      "Epoch 6/30\n",
      "542/542 [==============================] - 1s 2ms/step - loss: 0.6626 - acc: 0.5295 - val_loss: 0.6547 - val_acc: 0.5050\n",
      "Epoch 7/30\n",
      "542/542 [==============================] - 1s 2ms/step - loss: 0.6561 - acc: 0.5406 - val_loss: 0.6469 - val_acc: 0.5150\n",
      "Epoch 8/30\n",
      "542/542 [==============================] - 1s 2ms/step - loss: 0.6486 - acc: 0.5627 - val_loss: 0.6400 - val_acc: 0.6700\n",
      "Epoch 9/30\n",
      "542/542 [==============================] - 1s 2ms/step - loss: 0.6396 - acc: 0.6568 - val_loss: 0.6270 - val_acc: 0.5750\n",
      "Epoch 10/30\n",
      "542/542 [==============================] - 1s 2ms/step - loss: 0.6287 - acc: 0.6587 - val_loss: 0.6123 - val_acc: 0.6100\n",
      "Epoch 11/30\n",
      "542/542 [==============================] - 1s 2ms/step - loss: 0.6139 - acc: 0.6993 - val_loss: 0.5929 - val_acc: 0.7600\n",
      "Epoch 12/30\n",
      "542/542 [==============================] - 1s 2ms/step - loss: 0.5950 - acc: 0.7638 - val_loss: 0.5749 - val_acc: 0.8800\n",
      "Epoch 13/30\n",
      "542/542 [==============================] - 1s 2ms/step - loss: 0.5735 - acc: 0.7712 - val_loss: 0.5682 - val_acc: 0.8200\n",
      "Epoch 14/30\n",
      "542/542 [==============================] - 1s 2ms/step - loss: 0.5562 - acc: 0.7657 - val_loss: 0.5199 - val_acc: 0.9050\n",
      "Epoch 15/30\n",
      "542/542 [==============================] - 1s 2ms/step - loss: 0.5395 - acc: 0.7860 - val_loss: 0.5699 - val_acc: 0.5800\n",
      "Epoch 16/30\n",
      "542/542 [==============================] - 1s 2ms/step - loss: 0.5256 - acc: 0.7731 - val_loss: 0.4580 - val_acc: 0.9150\n",
      "Epoch 17/30\n",
      "542/542 [==============================] - 1s 2ms/step - loss: 0.5105 - acc: 0.7915 - val_loss: 0.4271 - val_acc: 0.9150\n",
      "Epoch 18/30\n",
      "542/542 [==============================] - 1s 2ms/step - loss: 0.4607 - acc: 0.8026 - val_loss: 0.7694 - val_acc: 0.5250\n",
      "Epoch 19/30\n",
      "542/542 [==============================] - 1s 2ms/step - loss: 0.4738 - acc: 0.8007 - val_loss: 0.7268 - val_acc: 0.5450\n",
      "Epoch 20/30\n",
      "542/542 [==============================] - 1s 2ms/step - loss: 0.5045 - acc: 0.7546 - val_loss: 0.4193 - val_acc: 0.8300\n",
      "Epoch 21/30\n",
      "542/542 [==============================] - 1s 2ms/step - loss: 0.3942 - acc: 0.8598 - val_loss: 0.3670 - val_acc: 0.8750\n",
      "Epoch 22/30\n",
      "542/542 [==============================] - 1s 2ms/step - loss: 0.4435 - acc: 0.7970 - val_loss: 0.3309 - val_acc: 0.9350\n",
      "Epoch 23/30\n",
      "542/542 [==============================] - 1s 2ms/step - loss: 0.3488 - acc: 0.8911 - val_loss: 0.4039 - val_acc: 0.8300\n",
      "Epoch 24/30\n",
      "542/542 [==============================] - 1s 2ms/step - loss: 0.3695 - acc: 0.8616 - val_loss: 0.3349 - val_acc: 0.8900\n",
      "Epoch 25/30\n",
      "542/542 [==============================] - 1s 2ms/step - loss: 0.3545 - acc: 0.8524 - val_loss: 0.3062 - val_acc: 0.9000\n",
      "Epoch 26/30\n",
      "542/542 [==============================] - 1s 2ms/step - loss: 0.3180 - acc: 0.8875 - val_loss: 0.2700 - val_acc: 0.9250\n",
      "Epoch 27/30\n",
      "542/542 [==============================] - 1s 2ms/step - loss: 0.3312 - acc: 0.8727 - val_loss: 0.3869 - val_acc: 0.7750\n",
      "Epoch 28/30\n",
      "542/542 [==============================] - 1s 2ms/step - loss: 0.3180 - acc: 0.8745 - val_loss: 0.3189 - val_acc: 0.9000\n",
      "Epoch 29/30\n",
      "542/542 [==============================] - 1s 2ms/step - loss: 0.3687 - acc: 0.8506 - val_loss: 0.2457 - val_acc: 0.9400\n",
      "Epoch 30/30\n",
      "542/542 [==============================] - 1s 2ms/step - loss: 0.2699 - acc: 0.9022 - val_loss: 0.3896 - val_acc: 0.8400\n"
     ]
    }
   ],
   "source": [
    "history = model.fit(train_images,\n",
    "                    train_y,\n",
    "                    epochs=30,\n",
    "                    batch_size=32,\n",
    "                    validation_data=(val_images, val_y))"
   ]
  },
  {
   "cell_type": "code",
   "execution_count": 56,
   "metadata": {},
   "outputs": [
    {
     "name": "stdout",
     "output_type": "stream",
     "text": [
      "542/542 [==============================] - 0s 483us/step\n"
     ]
    }
   ],
   "source": [
    "results_train = model.evaluate(train_images, train_y)"
   ]
  },
  {
   "cell_type": "code",
   "execution_count": 57,
   "metadata": {},
   "outputs": [
    {
     "name": "stdout",
     "output_type": "stream",
     "text": [
      "180/180 [==============================] - 0s 511us/step\n"
     ]
    }
   ],
   "source": [
    "results_test = model.evaluate(test_images, test_y)"
   ]
  },
  {
   "cell_type": "code",
   "execution_count": 58,
   "metadata": {},
   "outputs": [
    {
     "data": {
      "text/plain": [
       "[0.36642944075964473, 0.8560885787010193]"
      ]
     },
     "execution_count": 58,
     "metadata": {},
     "output_type": "execute_result"
    }
   ],
   "source": [
    "results_train"
   ]
  },
  {
   "cell_type": "code",
   "execution_count": 59,
   "metadata": {},
   "outputs": [
    {
     "data": {
      "text/plain": [
       "[0.4447511050436232, 0.7944444417953491]"
      ]
     },
     "execution_count": 59,
     "metadata": {},
     "output_type": "execute_result"
    }
   ],
   "source": [
    "results_test"
   ]
  },
  {
   "cell_type": "markdown",
   "metadata": {},
   "source": [
    "## Data Augmentation"
   ]
  },
  {
   "cell_type": "markdown",
   "metadata": {},
   "source": [
    "`ImageDataGenerator()` becomes really useful when we *actually* want to generate more data. We'll show you how this works. "
   ]
  },
  {
   "cell_type": "code",
   "execution_count": 60,
   "metadata": {},
   "outputs": [],
   "source": [
    "train_datagen = ImageDataGenerator(rescale=1./255, \n",
    "                                   rotation_range=40, \n",
    "                                   width_shift_range=0.2, \n",
    "                                   height_shift_range=0.2, \n",
    "                                   shear_range=0.3, \n",
    "                                   zoom_range=0.1, \n",
    "                                   horizontal_flip=False)"
   ]
  },
  {
   "cell_type": "code",
   "execution_count": 61,
   "metadata": {},
   "outputs": [
    {
     "data": {
      "image/png": "[encoded data removed]",
      "text/plain": [
       "<Figure size 432x288 with 1 Axes>"
      ]
     },
     "metadata": {
      "needs_background": "light"
     },
     "output_type": "display_data"
    },
    {
     "data": {
      "image/png": "[encoded data removed]",
      "text/plain": [
       "<Figure size 432x288 with 1 Axes>"
      ]
     },
     "metadata": {
      "needs_background": "light"
     },
     "output_type": "display_data"
    },
    {
     "data": {
      "image/png": "[encoded data removed]",
      "text/plain": [
       "<Figure size 432x288 with 1 Axes>"
      ]
     },
     "metadata": {
      "needs_background": "light"
     },
     "output_type": "display_data"
    }
   ],
   "source": [
    "names = [os.path.join(train_santa, name) for name in os.listdir(train_santa)]\n",
    "img_path = names[91]\n",
    "img = load_img(img_path, target_size=(64, 64))\n",
    "\n",
    "reshape_img = img_to_array(img) \n",
    "reshape_img = reshape_img.reshape((1,) + reshape_img.shape) \n",
    "i=0\n",
    "for batch in train_datagen.flow(reshape_img, batch_size=1):\n",
    "    plt.figure(i)\n",
    "    imgplot = plt.imshow(array_to_img(batch[0]))\n",
    "    i += 1\n",
    "    if i % 3 == 0:\n",
    "        break\n",
    "plt.show()"
   ]
  },
  {
   "cell_type": "code",
   "execution_count": 63,
   "metadata": {},
   "outputs": [
    {
     "name": "stdout",
     "output_type": "stream",
     "text": [
      "Found 180 images belonging to 2 classes.\n",
      "Found 200 images belonging to 2 classes.\n",
      "Found 542 images belonging to 2 classes.\n"
     ]
    }
   ],
   "source": [
    "# get all the data in the directory split/test (180 images), and reshape them\n",
    "test_generator = ImageDataGenerator(rescale=1./255).flow_from_directory(\n",
    "        test_folder, \n",
    "        target_size=(64, 64), \n",
    "        batch_size = 180,\n",
    "        class_mode='binary') \n",
    "\n",
    "# get all the data in the directory split/validation (200 images), and reshape them\n",
    "val_generator = ImageDataGenerator(rescale=1./255).flow_from_directory(\n",
    "        val_folder, \n",
    "        target_size=(64, 64),\n",
    "        batch_size = 32,\n",
    "        class_mode='binary')\n",
    "\n",
    "# get all the data in the directory split/train (542 images), and reshape them\n",
    "train_generator = train_datagen.flow_from_directory(\n",
    "        train_folder, \n",
    "        target_size=(64, 64), \n",
    "        batch_size = 32, \n",
    "        class_mode='binary')"
   ]
  },
  {
   "cell_type": "code",
   "execution_count": null,
   "metadata": {},
   "outputs": [],
   "source": [
    "model = models.Sequential()\n",
    "model.add(layers.Conv2D(32, (3, 3), activation='relu',\n",
    "                        input_shape=(64 ,64,  3)))\n",
    "model.add(layers.MaxPooling2D((2, 2)))\n",
    "\n",
    "model.add(layers.Conv2D(32, (4, 4), activation='relu'))\n",
    "model.add(layers.MaxPooling2D((2, 2)))\n",
    "\n",
    "model.add(layers.Conv2D(64, (3, 3), activation='relu'))\n",
    "model.add(layers.MaxPooling2D((2, 2)))\n",
    "\n",
    "model.add(layers.Flatten())\n",
    "model.add(layers.Dense(64, activation='relu'))\n",
    "model.add(layers.Dense(1, activation='sigmoid'))\n",
    "\n",
    "model.compile(loss='binary_crossentropy',\n",
    "              optimizer=\"sgd\",\n",
    "              metrics=['acc'])"
   ]
  },
  {
   "cell_type": "code",
   "execution_count": 64,
   "metadata": {},
   "outputs": [],
   "source": [
    "model = models.Sequential()\n",
    "model.add(layers.Conv2D(32, (3, 3), activation='relu',\n",
    "                        input_shape=(64 ,64,  3)))\n",
    "model.add(layers.MaxPooling2D((2, 2)))\n",
    "\n",
    "model.add(layers.Conv2D(32, (4, 4), activation='relu'))\n",
    "model.add(layers.MaxPooling2D((2, 2)))\n",
    "\n",
    "model.add(layers.Conv2D(64, (3, 3), activation='relu'))\n",
    "model.add(layers.MaxPooling2D((2, 2)))\n",
    "\n",
    "model.add(layers.Flatten())\n",
    "model.add(layers.Dense(64, activation='relu'))\n",
    "model.add(layers.Dense(1, activation='sigmoid'))\n",
    "\n",
    "model.compile(loss='binary_crossentropy',\n",
    "              optimizer= 'sgd',\n",
    "              metrics=['acc'])"
   ]
  },
  {
   "cell_type": "code",
   "execution_count": 65,
   "metadata": {},
   "outputs": [
    {
     "name": "stdout",
     "output_type": "stream",
     "text": [
      "Epoch 1/30\n",
      "25/25 [==============================] - 23s 935ms/step - loss: 0.6864 - acc: 0.5301 - val_loss: 0.6844 - val_acc: 0.5151\n",
      "Epoch 2/30\n",
      "25/25 [==============================] - 19s 758ms/step - loss: 0.6796 - acc: 0.5013 - val_loss: 0.6913 - val_acc: 0.4844\n",
      "Epoch 3/30\n",
      "25/25 [==============================] - 23s 908ms/step - loss: 0.6724 - acc: 0.5000 - val_loss: 0.6305 - val_acc: 0.5110\n",
      "Epoch 4/30\n",
      "25/25 [==============================] - 20s 798ms/step - loss: 0.6661 - acc: 0.5201 - val_loss: 0.6234 - val_acc: 0.5099\n",
      "Epoch 5/30\n",
      "25/25 [==============================] - 23s 933ms/step - loss: 0.6547 - acc: 0.5489 - val_loss: 0.6222 - val_acc: 0.5027\n",
      "Epoch 6/30\n",
      "25/25 [==============================] - 19s 772ms/step - loss: 0.6459 - acc: 0.5905 - val_loss: 0.5883 - val_acc: 0.5597\n",
      "Epoch 7/30\n",
      "25/25 [==============================] - 23s 920ms/step - loss: 0.6311 - acc: 0.6595 - val_loss: 0.5752 - val_acc: 0.5639\n",
      "Epoch 8/30\n",
      "25/25 [==============================] - 17s 687ms/step - loss: 0.6078 - acc: 0.7350 - val_loss: 0.5229 - val_acc: 0.6030\n",
      "Epoch 9/30\n",
      "25/25 [==============================] - 22s 880ms/step - loss: 0.5806 - acc: 0.7877 - val_loss: 0.4925 - val_acc: 0.6818\n",
      "Epoch 10/30\n",
      "25/25 [==============================] - 18s 729ms/step - loss: 0.5438 - acc: 0.8229 - val_loss: 0.5565 - val_acc: 0.5604\n",
      "Epoch 11/30\n",
      "25/25 [==============================] - 22s 888ms/step - loss: 0.5431 - acc: 0.7444 - val_loss: 0.5047 - val_acc: 0.7784\n",
      "Epoch 12/30\n",
      "25/25 [==============================] - 17s 690ms/step - loss: 0.5034 - acc: 0.7814 - val_loss: 0.4554 - val_acc: 0.8613\n",
      "Epoch 13/30\n",
      "25/25 [==============================] - 22s 879ms/step - loss: 0.4520 - acc: 0.8053 - val_loss: 0.3903 - val_acc: 0.7159\n",
      "Epoch 14/30\n",
      "25/25 [==============================] - 18s 724ms/step - loss: 0.4249 - acc: 0.8271 - val_loss: 0.1102 - val_acc: 0.9176\n",
      "Epoch 15/30\n",
      "25/25 [==============================] - 19s 780ms/step - loss: 0.4001 - acc: 0.8358 - val_loss: 0.4408 - val_acc: 0.7871\n",
      "Epoch 16/30\n",
      "25/25 [==============================] - 20s 796ms/step - loss: 0.3514 - acc: 0.8647 - val_loss: 0.6301 - val_acc: 0.8168\n",
      "Epoch 17/30\n",
      "25/25 [==============================] - 19s 749ms/step - loss: 0.3436 - acc: 0.8480 - val_loss: 0.2335 - val_acc: 0.8956\n",
      "Epoch 18/30\n",
      "25/25 [==============================] - 19s 748ms/step - loss: 0.3005 - acc: 0.8781 - val_loss: 0.4050 - val_acc: 0.9148\n",
      "Epoch 19/30\n",
      "25/25 [==============================] - 19s 760ms/step - loss: 0.2920 - acc: 0.8747 - val_loss: 0.2837 - val_acc: 0.9368\n",
      "Epoch 20/30\n",
      "25/25 [==============================] - 27s 1s/step - loss: 0.3220 - acc: 0.8719 - val_loss: 0.4425 - val_acc: 0.9318\n",
      "Epoch 21/30\n",
      "25/25 [==============================] - 19s 749ms/step - loss: 0.2650 - acc: 0.8985 - val_loss: 0.1966 - val_acc: 0.9247\n",
      "Epoch 22/30\n",
      "25/25 [==============================] - 22s 885ms/step - loss: 0.2451 - acc: 0.9045 - val_loss: 0.2759 - val_acc: 0.9245\n",
      "Epoch 23/30\n",
      "25/25 [==============================] - 18s 734ms/step - loss: 0.2580 - acc: 0.8985 - val_loss: 0.1446 - val_acc: 0.9460\n",
      "Epoch 24/30\n",
      "25/25 [==============================] - 22s 882ms/step - loss: 0.2588 - acc: 0.9010 - val_loss: 0.2111 - val_acc: 0.9299\n",
      "Epoch 25/30\n",
      "25/25 [==============================] - 18s 713ms/step - loss: 0.2284 - acc: 0.9133 - val_loss: 0.4782 - val_acc: 0.9233\n",
      "Epoch 26/30\n",
      "25/25 [==============================] - 21s 842ms/step - loss: 0.2337 - acc: 0.9045 - val_loss: 0.0695 - val_acc: 0.9245\n",
      "Epoch 27/30\n",
      "25/25 [==============================] - 19s 765ms/step - loss: 0.2456 - acc: 0.9060 - val_loss: 0.5180 - val_acc: 0.9119\n",
      "Epoch 28/30\n",
      "25/25 [==============================] - 21s 824ms/step - loss: 0.2123 - acc: 0.9236 - val_loss: 0.1938 - val_acc: 0.9332\n",
      "Epoch 29/30\n",
      "25/25 [==============================] - 15s 607ms/step - loss: 0.2231 - acc: 0.9146 - val_loss: 0.2696 - val_acc: 0.9299\n",
      "Epoch 30/30\n",
      "25/25 [==============================] - 22s 867ms/step - loss: 0.1944 - acc: 0.9261 - val_loss: 0.3901 - val_acc: 0.9304\n"
     ]
    }
   ],
   "source": [
    "history_2 = model.fit_generator(train_generator, \n",
    "                                steps_per_epoch=25, \n",
    "                                epochs=30, \n",
    "                                validation_data=val_generator, \n",
    "                                validation_steps=25)"
   ]
  },
  {
   "cell_type": "code",
   "execution_count": 66,
   "metadata": {},
   "outputs": [],
   "source": [
    "test_x, test_y = next(test_generator)"
   ]
  },
  {
   "cell_type": "code",
   "execution_count": 67,
   "metadata": {},
   "outputs": [
    {
     "name": "stdout",
     "output_type": "stream",
     "text": [
      "180/180 [==============================] - 0s 517us/step\n"
     ]
    }
   ],
   "source": [
    "results_test = model.evaluate(test_x, test_y)"
   ]
  },
  {
   "cell_type": "code",
   "execution_count": 68,
   "metadata": {},
   "outputs": [
    {
     "data": {
      "text/plain": [
       "[0.24926131500138177, 0.8999999761581421]"
      ]
     },
     "execution_count": 68,
     "metadata": {},
     "output_type": "execute_result"
    }
   ],
   "source": [
    "results_test"
   ]
  },
  {
   "cell_type": "markdown",
   "metadata": {},
   "source": [
    "## Summary  \n",
    "\n",
    "In this code along lab, we looked again at some of the preprocessing techniques needed in order to organize our data prior to building a model using Keras. Afterwards, we investigated new code in order to build a CNN for image recognition."
   ]
  }
 ],
 "metadata": {
  "kernelspec": {
   "display_name": "Python 3",
   "language": "python",
   "name": "python3"
  },
  "language_info": {
   "codemirror_mode": {
    "name": "ipython",
    "version": 3
   },
   "file_extension": ".py",
   "mimetype": "text/x-python",
   "name": "python",
   "nbconvert_exporter": "python",
   "pygments_lexer": "ipython3",
   "version": "3.7.9"
  },
  "toc": {
   "base_numbering": 1,
   "nav_menu": {},
   "number_sections": true,
   "sideBar": true,
   "skip_h1_title": false,
   "title_cell": "Table of Contents",
   "title_sidebar": "Contents",
   "toc_cell": false,
   "toc_position": {},
   "toc_section_display": true,
   "toc_window_display": false
  }
 },
 "nbformat": 4,
 "nbformat_minor": 2
}
